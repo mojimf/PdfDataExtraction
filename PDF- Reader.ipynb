{
 "cells": [
  {
   "cell_type": "code",
   "execution_count": 7,
   "id": "e3b7a52b",
   "metadata": {},
   "outputs": [
    {
     "name": "stdout",
     "output_type": "stream",
     "text": [
      "3.9.13 (main, Aug 25 2022, 23:51:50) [MSC v.1916 64 bit (AMD64)]\n"
     ]
    }
   ],
   "source": [
    "import sys\n",
    "print(sys.version)\n"
   ]
  },
  {
   "cell_type": "code",
   "execution_count": 9,
   "id": "3fb78770",
   "metadata": {},
   "outputs": [
    {
     "ename": "NameError",
     "evalue": "name 'pip' is not defined",
     "output_type": "error",
     "traceback": [
      "\u001b[1;31m---------------------------------------------------------------------------\u001b[0m",
      "\u001b[1;31mNameError\u001b[0m                                 Traceback (most recent call last)",
      "\u001b[1;32m~\\AppData\\Local\\Temp\\1\\ipykernel_300\\281949397.py\u001b[0m in \u001b[0;36m<module>\u001b[1;34m\u001b[0m\n\u001b[1;32m----> 1\u001b[1;33m \u001b[0mpip\u001b[0m \u001b[1;33m-\u001b[0m\u001b[1;33m-\u001b[0m\u001b[0mversion\u001b[0m\u001b[1;33m\u001b[0m\u001b[1;33m\u001b[0m\u001b[0m\n\u001b[0m\u001b[0;32m      2\u001b[0m \u001b[1;33m\u001b[0m\u001b[0m\n",
      "\u001b[1;31mNameError\u001b[0m: name 'pip' is not defined"
     ]
    }
   ],
   "source": [
    "pip --version\n",
    "\n",
    "\n"
   ]
  },
  {
   "cell_type": "code",
   "execution_count": 10,
   "id": "eb438363",
   "metadata": {},
   "outputs": [
    {
     "name": "stdout",
     "output_type": "stream",
     "text": [
      "Looking in links: c:\\Users\\m7918124\\AppData\\Local\\Temp\\1\\tmpxhkeb2nm\n",
      "Requirement already satisfied: setuptools in c:\\users\\m7918124\\anaconda3\\lib\\site-packages (63.4.1)\n",
      "Requirement already satisfied: pip in c:\\users\\m7918124\\anaconda3\\lib\\site-packages (22.2.2)\n"
     ]
    }
   ],
   "source": [
    "!python -m ensurepip --default-pip\n"
   ]
  },
  {
   "cell_type": "code",
   "execution_count": 3,
   "id": "b7f2e0a2",
   "metadata": {},
   "outputs": [
    {
     "name": "stdout",
     "output_type": "stream",
     "text": [
      "Collecting PyMuPDF\n",
      "  Downloading PyMuPDF-1.23.4-cp39-none-win_amd64.whl (3.5 MB)\n",
      "     ---------------------------------------- 3.5/3.5 MB 530.7 kB/s eta 0:00:00\n",
      "Collecting PyMuPDFb==1.23.3\n",
      "  Downloading PyMuPDFb-1.23.3-py3-none-win_amd64.whl (24.4 MB)\n",
      "     ---------------------------------------- 24.4/24.4 MB 9.2 MB/s eta 0:00:00\n",
      "Installing collected packages: PyMuPDFb, PyMuPDF\n",
      "Successfully installed PyMuPDF-1.23.4 PyMuPDFb-1.23.3\n",
      "Note: you may need to restart the kernel to use updated packages.\n"
     ]
    }
   ],
   "source": [
    "pip install --trusted-host pypi.org --trusted-host pypi.python.org --trusted-host=files.pythonhosted.org PyMuPDF\n"
   ]
  },
  {
   "cell_type": "code",
   "execution_count": 7,
   "id": "be8c5d16",
   "metadata": {},
   "outputs": [
    {
     "data": {
      "text/plain": [
       "Document('sample.pdf')"
      ]
     },
     "execution_count": 7,
     "metadata": {},
     "output_type": "execute_result"
    }
   ],
   "source": [
    "import fitz\n",
    "doc = fitz.open('sample.pdf')\n",
    "doc"
   ]
  },
  {
   "cell_type": "code",
   "execution_count": 9,
   "id": "6b099b72",
   "metadata": {},
   "outputs": [
    {
     "name": "stdout",
     "output_type": "stream",
     "text": [
      " \n",
      "  House of Lettings – Leeds, United Kingdom \n",
      "Dec 2021 – Sep 2022 \n",
      "Business Data Analyst  \n",
      "  Dorsa Industrial Group – Tehran, Iran \n",
      "Apr 2021 – Present \n",
      "Digital Transformation Senior Advisor  \n",
      "  Rahnamaa Technology Consulting – Tehran, Iran \n",
      "Jan 2017 - Sep 2017 \n",
      "Business Analyst and Project Manager  \n",
      "Honours and professional activities: \n",
      " \n",
      "● \n",
      "Lectured Marketing and Data Analytics for managers in several MBA and DBA courses – IO Academy and \n",
      "Elearne Ever(Sweden) 15 courses and 300 students \n",
      "● \n",
      "Won Spotlight Award for providing a data solution to the data and reporting team. (CTO VMO2) \n",
      "● \n",
      "Promoted from business and reporting analyst to business analytics manager of Shaparak, the most significant \n",
      "payment schema in the MENA region. \n",
      "● \n",
      "Member of The Operational Research Society – United Kingdom  \n",
      "Publications: \n",
      " \n",
      "● \n",
      "\"Distributed ledger technology and the future of payment services\" book 2019- ISBN 9786005854114 \n",
      "● \n",
      "\"Open banking\" book 2019- ISBN 9786226169875 \n",
      "● \n",
      "\"Using M.S.Excel in solving engineering economy problems\" book 2010-ISBN 9789643774349 \n",
      "● \n",
      "\"Designing distributed infrastructure of national payment system using Tangle technology\" article 2020- National \n",
      "electronic banking and payment systems conference \n",
      "● \n",
      "\"Using online prediction models in FOREX market\" article -2011 presented in the national conference of \n",
      "industrial engineering \n",
      " \n",
      "Educations: \n",
      " \n",
      "● \n",
      "Leeds University Business School: \n",
      "Sep 2021 – Sep2022 \n",
      "○ \n",
      "Master of Science - Business Analytics and Decision Science - Distinct GPA \n",
      "● \n",
      "Amirkabir University of Technology: \n",
      "Jan 2011 – Jun 2013 \n",
      "○ \n",
      "Master of Science - Productivity and System Management - Distinct GPA \n",
      "Courses: \n",
      " \n",
      "● \n",
      "The business intelligence analyst course 2023 - 365 Careers. (SQL, Python, Tableau) \n",
      "● \n",
      "Data scientist course (Statistic models, Python introduction, Machine learning, Tableau)– Dayche Institute. \n",
      "● \n",
      "Introduction to time series and machine learning – Industrial engineering faculty of IAU. \n",
      "● \n",
      "Google cloud foundation course - Coursera \n",
      "● \n",
      "Digital Marketing Analysis \n",
      "● \n",
      "ISO 9001-2008 internal audition- TUV Nord. \n",
      "● \n",
      "PMBOK course- Ariana group. \n",
      " \n",
      "\n"
     ]
    }
   ],
   "source": [
    "for page in doc: \n",
    "    text = page.get_text() \n",
    "print(text)\n"
   ]
  }
 ],
 "metadata": {
  "kernelspec": {
   "display_name": "Python 3 (ipykernel)",
   "language": "python",
   "name": "python3"
  },
  "language_info": {
   "codemirror_mode": {
    "name": "ipython",
    "version": 3
   },
   "file_extension": ".py",
   "mimetype": "text/x-python",
   "name": "python",
   "nbconvert_exporter": "python",
   "pygments_lexer": "ipython3",
   "version": "3.9.13"
  }
 },
 "nbformat": 4,
 "nbformat_minor": 5
}
